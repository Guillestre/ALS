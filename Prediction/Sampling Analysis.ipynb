{
 "cells": [
  {
   "cell_type": "markdown",
   "id": "2a0cceed",
   "metadata": {},
   "source": [
    "# Import librairies"
   ]
  },
  {
   "cell_type": "code",
   "execution_count": 1,
   "id": "87675c2c",
   "metadata": {},
   "outputs": [],
   "source": [
    "# Import main librairies\n",
    "import numpy as np\n",
    "import pandas as pd\n",
    "import matplotlib.pyplot as plt\n",
    "\n",
    "# Import librairies to connect to the database\n",
    "import psycopg2 as ps\n",
    "import pandas.io.sql as sqlio\n",
    "\n",
    "# Import librairie to plot and quantify distributions\n",
    "import seaborn as sns\n",
    "from collections import Counter\n",
    "sns.set()\n",
    "\n",
    "# Import Oversampling librairies\n",
    "from imblearn.over_sampling import SMOTE\n",
    "from imblearn.over_sampling import BorderlineSMOTE\n",
    "from imblearn.over_sampling import SVMSMOTE\n",
    "from imblearn.over_sampling import KMeansSMOTE\n",
    "\n",
    "# Import undersampling librairies\n",
    "from imblearn.under_sampling import CondensedNearestNeighbour\n",
    "from imblearn.under_sampling import NearMiss\n",
    "from imblearn.under_sampling import TomekLinks\n",
    "from imblearn.under_sampling import EditedNearestNeighbours\n",
    "from imblearn.under_sampling import OneSidedSelection\n",
    "\n",
    "# Import tools\n",
    "%run ../Tools.ipynb"
   ]
  },
  {
   "cell_type": "markdown",
   "id": "db8140c7",
   "metadata": {},
   "source": [
    "# Connect to database"
   ]
  },
  {
   "cell_type": "code",
   "execution_count": 2,
   "id": "83c6ed5a",
   "metadata": {},
   "outputs": [],
   "source": [
    "conn = ps.connect(dbname=\"SLA\", user=\"postgres\", password=\"root\", host=\"localhost\", port=\"5432\")"
   ]
  },
  {
   "cell_type": "markdown",
   "id": "9ebd8895",
   "metadata": {},
   "source": [
    "# Get data from database"
   ]
  },
  {
   "cell_type": "code",
   "execution_count": 3,
   "id": "5733a3dc",
   "metadata": {},
   "outputs": [
    {
     "name": "stdout",
     "output_type": "stream",
     "text": [
      "Nombre de patients restant : 1045\n"
     ]
    },
    {
     "name": "stderr",
     "output_type": "stream",
     "text": [
      "C:\\Users\\guill\\anaconda3\\lib\\site-packages\\pandas\\io\\sql.py:761: UserWarning: pandas only support SQLAlchemy connectable(engine/connection) ordatabase string URI or sqlite3 DBAPI2 connectionother DBAPI2 objects are not tested, please consider using SQLAlchemy\n",
      "  warnings.warn(\n"
     ]
    }
   ],
   "source": [
    "# Set variables\n",
    "variables = ['WEIGHT_VAR_M12', 'GROUPEDEB']\n",
    "\n",
    "# Set sql query\n",
    "sql = 'SELECT * FROM \"PATIENTS\"'\n",
    "\n",
    "# Get data from database\n",
    "df_patients = sqlio.read_sql_query(sql, conn)[variables].copy()\n",
    "print(\"Nombre de patients restant :\", df_patients.shape[0])"
   ]
  },
  {
   "cell_type": "markdown",
   "id": "06f445fb",
   "metadata": {},
   "source": [
    "# Drop null values"
   ]
  },
  {
   "cell_type": "code",
   "execution_count": 4,
   "id": "ed95691c",
   "metadata": {},
   "outputs": [
    {
     "name": "stdout",
     "output_type": "stream",
     "text": [
      "Nombre de patients restant : 233\n"
     ]
    }
   ],
   "source": [
    "# Drop null values\n",
    "df_patients = df_patients.dropna().copy()\n",
    "print(\"Nombre de patients restant :\", df_patients.shape[0])"
   ]
  },
  {
   "cell_type": "markdown",
   "id": "4da77242",
   "metadata": {},
   "source": [
    "# Drop \"Respiratoire\" Diagnostic"
   ]
  },
  {
   "cell_type": "code",
   "execution_count": 5,
   "id": "bbb43a13",
   "metadata": {},
   "outputs": [
    {
     "name": "stdout",
     "output_type": "stream",
     "text": [
      "Nombre de patients restant : 228\n"
     ]
    }
   ],
   "source": [
    "df_patients = df_patients[df_patients.GROUPEDEB != \"Respiratoire\"]\n",
    "print(\"Nombre de patients restant :\", df_patients.shape[0])"
   ]
  },
  {
   "cell_type": "markdown",
   "id": "f1450928",
   "metadata": {},
   "source": [
    "# Separate features and target"
   ]
  },
  {
   "cell_type": "code",
   "execution_count": 6,
   "id": "392e7417",
   "metadata": {},
   "outputs": [],
   "source": [
    "# Get features\n",
    "X = df_patients.drop(df_patients.columns.values[-1], axis=1)\n",
    "\n",
    "# Get target\n",
    "y = df_patients[df_patients.columns.values[-1]]"
   ]
  },
  {
   "cell_type": "markdown",
   "id": "1f390c09",
   "metadata": {},
   "source": [
    "# Encode categorical data"
   ]
  },
  {
   "cell_type": "code",
   "execution_count": 7,
   "id": "b341ba07",
   "metadata": {},
   "outputs": [],
   "source": [
    "X = encodeData(X)"
   ]
  },
  {
   "cell_type": "markdown",
   "id": "92b0f049",
   "metadata": {},
   "source": [
    "# Target distribution after removed unwanted rows"
   ]
  },
  {
   "cell_type": "code",
   "execution_count": 8,
   "id": "40a53f0d",
   "metadata": {},
   "outputs": [
    {
     "data": {
      "image/png": "[encoded data removed]",
      "text/plain": [
       "<Figure size 432x288 with 1 Axes>"
      ]
     },
     "metadata": {},
     "output_type": "display_data"
    },
    {
     "name": "stdout",
     "output_type": "stream",
     "text": [
      "Data : Counter({'Spinal': 147, 'Bulbaire': 81})\n"
     ]
    }
   ],
   "source": [
    "# Plot distribution\n",
    "sns.histplot(data=y)\n",
    "plt.title(\"Target distribution after unwanted rows removed\", fontsize=15)\n",
    "plt.show()\n",
    "\n",
    "# summarize class distribution\n",
    "counter = Counter(y)\n",
    "print('Data :', counter)"
   ]
  },
  {
   "cell_type": "markdown",
   "id": "c62434ca",
   "metadata": {},
   "source": [
    "# Plot data"
   ]
  },
  {
   "cell_type": "code",
   "execution_count": 9,
   "id": "75914c3a",
   "metadata": {},
   "outputs": [
    {
     "ename": "IndexError",
     "evalue": "index 1 is out of bounds for axis 0 with size 1",
     "output_type": "error",
     "traceback": [
      "\u001b[1;31m---------------------------------------------------------------------------\u001b[0m",
      "\u001b[1;31mIndexError\u001b[0m                                Traceback (most recent call last)",
      "Input \u001b[1;32mIn [9]\u001b[0m, in \u001b[0;36m<cell line: 1>\u001b[1;34m()\u001b[0m\n\u001b[1;32m----> 1\u001b[0m sns\u001b[38;5;241m.\u001b[39mpairplot(x_vars\u001b[38;5;241m=\u001b[39m[X\u001b[38;5;241m.\u001b[39mcolumns\u001b[38;5;241m.\u001b[39mvalues[\u001b[38;5;241m0\u001b[39m]], y_vars\u001b[38;5;241m=\u001b[39m[\u001b[43mX\u001b[49m\u001b[38;5;241;43m.\u001b[39;49m\u001b[43mcolumns\u001b[49m\u001b[38;5;241;43m.\u001b[39;49m\u001b[43mvalues\u001b[49m\u001b[43m[\u001b[49m\u001b[38;5;241;43m1\u001b[39;49m\u001b[43m]\u001b[49m], data\u001b[38;5;241m=\u001b[39mdf_patients, hue\u001b[38;5;241m=\u001b[39m\u001b[38;5;124m\"\u001b[39m\u001b[38;5;124mGROUPEDEB\u001b[39m\u001b[38;5;124m\"\u001b[39m, height\u001b[38;5;241m=\u001b[39m\u001b[38;5;241m5\u001b[39m)\n\u001b[0;32m      2\u001b[0m plt\u001b[38;5;241m.\u001b[39mshow()\n",
      "\u001b[1;31mIndexError\u001b[0m: index 1 is out of bounds for axis 0 with size 1"
     ]
    }
   ],
   "source": [
    "sns.pairplot(x_vars=[X.columns.values[0]], y_vars=[X.columns.values[1]], data=df_patients, hue=\"GROUPEDEB\", height=5)\n",
    "plt.show()"
   ]
  },
  {
   "cell_type": "markdown",
   "id": "97068a6b",
   "metadata": {},
   "source": [
    "# Sampling data"
   ]
  },
  {
   "cell_type": "markdown",
   "id": "8309cbb3",
   "metadata": {},
   "source": [
    "## Set up"
   ]
  },
  {
   "cell_type": "code",
   "execution_count": 10,
   "id": "e78211f5",
   "metadata": {},
   "outputs": [],
   "source": [
    "# Use of Oversampling\n",
    "global useSmote, useBorderlineSMOTE, useSVMSMOTE, useKMeansSMOTE\n",
    "useSmote = False; useBorderlineSMOTE = False; useSVMSMOTE = False; useKMeansSMOTE = False\n",
    "\n",
    "# Use of Undersampling\n",
    "global useNearMiss, useCondensedNearestNeighbour, useTomekLinks, useEditedNearestNeighbours, useOneSidedSelection\n",
    "useNearMiss = False; useCondensedNearestNeighbour = False; useTomekLinks = False; \n",
    "useEditedNearestNeighbours = False; useOneSidedSelection = True\n",
    "\n",
    "# Sampling parameters\n",
    "global n_neighbors, sampling_strategy, NearMiss_version, n_seeds_S\n",
    "n_neighbors = 5; sampling_strategy = 1; NearMiss_version = 3; n_seeds_S = 105"
   ]
  },
  {
   "cell_type": "markdown",
   "id": "29013e1a",
   "metadata": {},
   "source": [
    "## Execute Sampling"
   ]
  },
  {
   "cell_type": "code",
   "execution_count": 11,
   "id": "0eeab7f6",
   "metadata": {},
   "outputs": [],
   "source": [
    "X_sampled, y_sampled = oversampling(X, y)\n",
    "X_sampled, y_sampled = undersampling(X, y)"
   ]
  },
  {
   "cell_type": "markdown",
   "id": "58515d83",
   "metadata": {},
   "source": [
    "## Plot sampled data distribution"
   ]
  },
  {
   "cell_type": "code",
   "execution_count": 12,
   "id": "227dfb86",
   "metadata": {},
   "outputs": [
    {
     "data": {
      "image/png": "[encoded data removed]",
      "text/plain": [
       "<Figure size 432x288 with 1 Axes>"
      ]
     },
     "metadata": {},
     "output_type": "display_data"
    },
    {
     "name": "stdout",
     "output_type": "stream",
     "text": [
      "Counter({'Spinal': 119, 'Bulbaire': 81})\n"
     ]
    }
   ],
   "source": [
    "# Plot distribution\n",
    "sns.histplot(data=y_sampled)\n",
    "plt.title(\"Target distribution after sampled data\", fontsize=15)\n",
    "plt.show()\n",
    "\n",
    "# summarize class distribution\n",
    "counter = Counter(y_sampled)\n",
    "print(counter)"
   ]
  },
  {
   "cell_type": "markdown",
   "id": "bce3c162",
   "metadata": {},
   "source": [
    "## Plot scatterplot with sampled data"
   ]
  },
  {
   "cell_type": "code",
   "execution_count": 13,
   "id": "43614e07",
   "metadata": {},
   "outputs": [
    {
     "ename": "IndexError",
     "evalue": "index 1 is out of bounds for axis 0 with size 1",
     "output_type": "error",
     "traceback": [
      "\u001b[1;31m---------------------------------------------------------------------------\u001b[0m",
      "\u001b[1;31mIndexError\u001b[0m                                Traceback (most recent call last)",
      "Input \u001b[1;32mIn [13]\u001b[0m, in \u001b[0;36m<cell line: 2>\u001b[1;34m()\u001b[0m\n\u001b[0;32m      1\u001b[0m \u001b[38;5;66;03m# dictionary of lists\u001b[39;00m\n\u001b[0;32m      2\u001b[0m \u001b[38;5;28mdict\u001b[39m \u001b[38;5;241m=\u001b[39m {X\u001b[38;5;241m.\u001b[39mcolumns\u001b[38;5;241m.\u001b[39mvalues[\u001b[38;5;241m0\u001b[39m]: X_sampled[X\u001b[38;5;241m.\u001b[39mcolumns\u001b[38;5;241m.\u001b[39mvalues[\u001b[38;5;241m0\u001b[39m]],\n\u001b[1;32m----> 3\u001b[0m         \u001b[43mX\u001b[49m\u001b[38;5;241;43m.\u001b[39;49m\u001b[43mcolumns\u001b[49m\u001b[38;5;241;43m.\u001b[39;49m\u001b[43mvalues\u001b[49m\u001b[43m[\u001b[49m\u001b[38;5;241;43m1\u001b[39;49m\u001b[43m]\u001b[49m: X_sampled[X\u001b[38;5;241m.\u001b[39mcolumns\u001b[38;5;241m.\u001b[39mvalues[\u001b[38;5;241m1\u001b[39m]],\n\u001b[0;32m      4\u001b[0m         y\u001b[38;5;241m.\u001b[39mname:y_sampled}\n\u001b[0;32m      6\u001b[0m df_patients_sampled \u001b[38;5;241m=\u001b[39m pd\u001b[38;5;241m.\u001b[39mDataFrame(\u001b[38;5;28mdict\u001b[39m)\n",
      "\u001b[1;31mIndexError\u001b[0m: index 1 is out of bounds for axis 0 with size 1"
     ]
    }
   ],
   "source": [
    "# dictionary of lists\n",
    "dict = {X.columns.values[0]: X_sampled[X.columns.values[0]],\n",
    "        X.columns.values[1]: X_sampled[X.columns.values[1]],\n",
    "        y.name:y_sampled}\n",
    "\n",
    "df_patients_sampled = pd.DataFrame(dict)"
   ]
  },
  {
   "cell_type": "code",
   "execution_count": 14,
   "id": "79fd495a",
   "metadata": {},
   "outputs": [
    {
     "ename": "IndexError",
     "evalue": "index 1 is out of bounds for axis 0 with size 1",
     "output_type": "error",
     "traceback": [
      "\u001b[1;31m---------------------------------------------------------------------------\u001b[0m",
      "\u001b[1;31mIndexError\u001b[0m                                Traceback (most recent call last)",
      "Input \u001b[1;32mIn [14]\u001b[0m, in \u001b[0;36m<cell line: 1>\u001b[1;34m()\u001b[0m\n\u001b[1;32m----> 1\u001b[0m sns\u001b[38;5;241m.\u001b[39mpairplot(x_vars\u001b[38;5;241m=\u001b[39m[X\u001b[38;5;241m.\u001b[39mcolumns\u001b[38;5;241m.\u001b[39mvalues[\u001b[38;5;241m0\u001b[39m]], y_vars\u001b[38;5;241m=\u001b[39m[\u001b[43mX\u001b[49m\u001b[38;5;241;43m.\u001b[39;49m\u001b[43mcolumns\u001b[49m\u001b[38;5;241;43m.\u001b[39;49m\u001b[43mvalues\u001b[49m\u001b[43m[\u001b[49m\u001b[38;5;241;43m1\u001b[39;49m\u001b[43m]\u001b[49m], data\u001b[38;5;241m=\u001b[39mdf_patients_sampled, hue\u001b[38;5;241m=\u001b[39m\u001b[38;5;124m\"\u001b[39m\u001b[38;5;124mGROUPEDEB\u001b[39m\u001b[38;5;124m\"\u001b[39m, height\u001b[38;5;241m=\u001b[39m\u001b[38;5;241m5\u001b[39m)\n\u001b[0;32m      2\u001b[0m plt\u001b[38;5;241m.\u001b[39mshow()\n",
      "\u001b[1;31mIndexError\u001b[0m: index 1 is out of bounds for axis 0 with size 1"
     ]
    }
   ],
   "source": [
    "sns.pairplot(x_vars=[X.columns.values[0]], y_vars=[X.columns.values[1]], data=df_patients_sampled, hue=\"GROUPEDEB\", height=5)\n",
    "plt.show()"
   ]
  }
 ],
 "metadata": {
  "kernelspec": {
   "display_name": "Python 3 (ipykernel)",
   "language": "python",
   "name": "python3"
  },
  "language_info": {
   "codemirror_mode": {
    "name": "ipython",
    "version": 3
   },
   "file_extension": ".py",
   "mimetype": "text/x-python",
   "name": "python",
   "nbconvert_exporter": "python",
   "pygments_lexer": "ipython3",
   "version": "3.9.12"
  },
  "varInspector": {
   "cols": {
    "lenName": 16,
    "lenType": 16,
    "lenVar": 40
   },
   "kernels_config": {
    "python": {
     "delete_cmd_postfix": "",
     "delete_cmd_prefix": "del ",
     "library": "var_list.py",
     "varRefreshCmd": "print(var_dic_list())"
    },
    "r": {
     "delete_cmd_postfix": ") ",
     "delete_cmd_prefix": "rm(",
     "library": "var_list.r",
     "varRefreshCmd": "cat(var_dic_list()) "
    }
   },
   "types_to_exclude": [
    "module",
    "function",
    "builtin_function_or_method",
    "instance",
    "_Feature"
   ],
   "window_display": false
  }
 },
 "nbformat": 4,
 "nbformat_minor": 5
}
