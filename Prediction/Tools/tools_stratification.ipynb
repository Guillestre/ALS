{
 "cells": [
  {
   "cell_type": "markdown",
   "id": "2cf8663a",
   "metadata": {},
   "source": [
    "# Import librairies"
   ]
  },
  {
   "cell_type": "code",
   "execution_count": 1,
   "id": "39075559",
   "metadata": {},
   "outputs": [],
   "source": [
    "# Import main librairies\n",
    "import numpy as np\n",
    "import pandas as pd\n",
    "\n",
    "# Import matplotlib librairies\n",
    "import matplotlib.pyplot as plt\n",
    "from matplotlib.lines import Line2D"
   ]
  },
  {
   "cell_type": "markdown",
   "id": "6e17424b",
   "metadata": {},
   "source": [
    "# Labelling"
   ]
  },
  {
   "cell_type": "code",
   "execution_count": 2,
   "id": "86b93b4b",
   "metadata": {},
   "outputs": [],
   "source": [
    "def labelling(X, y):\n",
    "    \n",
    "    ##====================\n",
    "    ## SETUP\n",
    "    ##====================\n",
    "    \n",
    "    # Numeric variables names\n",
    "    variables = X.columns\n",
    "\n",
    "    # copy dataframe\n",
    "    df_tmp = X.copy()\n",
    "\n",
    "    # If it's univariate\n",
    "    if len(variables) == 1:\n",
    "        # add temporary y axis variable set to zero\n",
    "        df_tmp['y'] = np.zeros(len(df_tmp.copy())).copy()\n",
    "        # Set variable to be evaluated\n",
    "        variables = [variables[0], 'y']\n",
    "\n",
    "    # Get temporary dataframe with cluster variables\n",
    "    df_tmp = df_tmp[variables]\n",
    "\n",
    "    # Add label that will allow to label our points\n",
    "    df_tmp['Label'] = y\n",
    "\n",
    "    # Drop null values\n",
    "    df_tmp = df_tmp.dropna()\n",
    "\n",
    "    # Set x and y axis\n",
    "    v1 = df_tmp[variables[0]]\n",
    "    v2 = df_tmp[variables[1]]\n",
    "    if len(variables) == 3:\n",
    "        v3 = df_tmp[variables[2]]\n",
    "\n",
    "    # Get unique values from the label variable\n",
    "    unique_values = np.unique(df_tmp['Label'])\n",
    "\n",
    "    # define map colors for data points\n",
    "    colors = ['#DF2020', '#81DF20', '#005544', '#009944', '#990044', '#990099', '#992000']\n",
    "\n",
    "    # Set \n",
    "    map_set = {}\n",
    "\n",
    "    # For each unique value from the label variable\n",
    "    for i in range(0, len(unique_values)):\n",
    "        # Map to his respective color for all concerned data points that have this label value\n",
    "        map_set.update({unique_values[i]:colors[i]})\n",
    "\n",
    "    # Add column that will contains label colors for each data points\n",
    "    df_tmp['c'] = y.map(map_set)\n",
    "    \n",
    "    ##====================\n",
    "    ## PLOT DATA\n",
    "    ##====================\n",
    "    \n",
    "    # Create figure\n",
    "    fig = plt.figure(figsize=(10, 10))\n",
    "\n",
    "    # Add subplot\n",
    "    if len(variables) == 3:\n",
    "        ax = fig.add_subplot(projection='3d')\n",
    "    else:\n",
    "        ax = fig.add_subplot()\n",
    "\n",
    "    # Set up Legend\n",
    "    legend_elements = [Line2D([0], [0], marker='o', color='w', label=unique_values[i], \n",
    "                   markerfacecolor=mcolor, markersize=10) for i, mcolor in enumerate(colors[0:len(unique_values)])]\n",
    "    # plot legend\n",
    "    plt.legend(handles=legend_elements, loc='upper right', fontsize=15)\n",
    "\n",
    "    # plot data points\n",
    "    if len(variables) == 3:\n",
    "        ax.scatter(v1, v2, v3, c=df_tmp.c, alpha = 0.8, s=40)\n",
    "        # View Orientation\n",
    "        ax.view_init(elev=15, azim=45)\n",
    "    else:\n",
    "        ax.scatter(v1, v2, c=df_tmp.c, alpha = 0.8, s=40)\n",
    "\n",
    "    # Plot axis names\n",
    "    ax.set_xlabel(v1.name, fontsize=20)\n",
    "    ax.set_ylabel(v2.name, fontsize=20)\n",
    "    if len(variables) == 3:\n",
    "        ax.set_zlabel(v3.name, fontsize=20)\n",
    "\n",
    "    plt.title(\"Cluster with : \" + str(variables), fontsize=20)\n",
    "    plt.show()\n",
    "\n",
    "    print(\"Nombre de patients :\", df_tmp.shape[0])"
   ]
  }
 ],
 "metadata": {
  "kernelspec": {
   "display_name": "Python 3 (ipykernel)",
   "language": "python",
   "name": "python3"
  },
  "language_info": {
   "codemirror_mode": {
    "name": "ipython",
    "version": 3
   },
   "file_extension": ".py",
   "mimetype": "text/x-python",
   "name": "python",
   "nbconvert_exporter": "python",
   "pygments_lexer": "ipython3",
   "version": "3.9.12"
  },
  "varInspector": {
   "cols": {
    "lenName": 16,
    "lenType": 16,
    "lenVar": 40
   },
   "kernels_config": {
    "python": {
     "delete_cmd_postfix": "",
     "delete_cmd_prefix": "del ",
     "library": "var_list.py",
     "varRefreshCmd": "print(var_dic_list())"
    },
    "r": {
     "delete_cmd_postfix": ") ",
     "delete_cmd_prefix": "rm(",
     "library": "var_list.r",
     "varRefreshCmd": "cat(var_dic_list()) "
    }
   },
   "types_to_exclude": [
    "module",
    "function",
    "builtin_function_or_method",
    "instance",
    "_Feature"
   ],
   "window_display": false
  }
 },
 "nbformat": 4,
 "nbformat_minor": 5
}
