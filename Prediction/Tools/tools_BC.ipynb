{
 "cells": [
  {
   "cell_type": "markdown",
   "id": "2cf8663a",
   "metadata": {},
   "source": [
    "# Import librairies"
   ]
  },
  {
   "cell_type": "code",
   "execution_count": 1,
   "id": "39075559",
   "metadata": {},
   "outputs": [],
   "source": [
    "# Import main librairies\n",
    "import numpy as np\n",
    "import pandas as pd\n",
    "import matplotlib.pyplot as plt\n",
    "\n",
    "# Import librairie to plot trees\n",
    "from sklearn import tree\n",
    "\n",
    "# Import Cross Validation librairies\n",
    "from sklearn.model_selection import cross_val_score\n",
    "from sklearn.model_selection import RepeatedKFold\n",
    "\n",
    "# Import Confusion matrix librairies\n",
    "from sklearn.metrics import confusion_matrix\n",
    "from sklearn.metrics import ConfusionMatrixDisplay\n",
    "\n",
    "# Import Train Test Split librairy\n",
    "from sklearn.model_selection import train_test_split"
   ]
  },
  {
   "cell_type": "markdown",
   "id": "6efa8b1a",
   "metadata": {},
   "source": [
    "# Binary Classifier Metrics"
   ]
  },
  {
   "cell_type": "code",
   "execution_count": 2,
   "id": "b8d468dc",
   "metadata": {},
   "outputs": [],
   "source": [
    "def computeRecall(cm):\n",
    "    \n",
    "    \"\"\"\n",
    "    Compute recall\n",
    "    cm: Confusion matrix\n",
    "    return: recall\n",
    "    \"\"\"\n",
    "    \n",
    "    return cm[1][1]/(cm[1][0] + cm[1][1])\n",
    "\n",
    "def computeFmeasure(accuracy, recall):\n",
    "    \n",
    "    \"\"\"\n",
    "    precision: accuracy\n",
    "    recall: recall\n",
    "    Compute F measure. The closer to 1, the better the model is.\n",
    "    \"\"\"\n",
    "    \n",
    "    return 2 * ((accuracy*recall)/(accuracy+recall))"
   ]
  },
  {
   "cell_type": "markdown",
   "id": "0a1f07f0",
   "metadata": {},
   "source": [
    "# Binary Classifier"
   ]
  },
  {
   "cell_type": "code",
   "execution_count": 3,
   "id": "fa50c568",
   "metadata": {},
   "outputs": [],
   "source": [
    "def binaryClassifier(clf, X, y, test_size, n_repeats, plot_res):\n",
    "\n",
    "    # Arrays that contains computed metrics from the model n_repeats time\n",
    "    accuracies = []\n",
    "    recalls = []\n",
    "    Fmeasures = []\n",
    "    \n",
    "    # Arrays that contains computed metrics from the confusion matrix n_repeats time\n",
    "    left_class_nb = []\n",
    "    right_class_nb = []\n",
    "    left_class_fit = []\n",
    "    right_class_fit = []\n",
    "    \n",
    "    # For each iterations\n",
    "    for n in range(1, n_repeats):\n",
    "    \n",
    "        # Split dataset into train and test\n",
    "        X_train, X_test, y_train, y_test = train_test_split(X, y, stratify=y, test_size = test_size)\n",
    "    \n",
    "        # Train model\n",
    "        clf.fit(X_train, y_train)\n",
    "\n",
    "        # Predict target based on test data\n",
    "        y_pred = clf.predict(X_test)\n",
    "\n",
    "        # Create confusion matrix\n",
    "        cm = confusion_matrix(y_test, y_pred)\n",
    "\n",
    "        # Compute accuracy\n",
    "        accuracy = clf.score(X_test, y_test)\n",
    "\n",
    "        # Compute recall\n",
    "        recall = computeRecall(cm)\n",
    "\n",
    "        # Compute F score\n",
    "        Fmeasure = computeFmeasure(accuracy, recall)\n",
    "\n",
    "        # Append computed metrics from the model to temporary arrays\n",
    "        accuracies.append(accuracy)\n",
    "        recalls.append(recall)\n",
    "        Fmeasures.append(Fmeasure)\n",
    "        \n",
    "        # Append computed metrics from the confusion matrix to temporary arrays\n",
    "        left_class_nb.append(cm[0][0] + cm[0][1])\n",
    "        right_class_nb.append(cm[1][0] + cm[1][1])\n",
    "        left_class_fit.append(cm[0][0]/(cm[0][0] + cm[0][1]))\n",
    "        right_class_fit.append(cm[1][1]/(cm[1][0] + cm[1][1]))\n",
    "        \n",
    "    # Plot classifier results\n",
    "    if (str(type(clf)) == \"<class 'sklearn.tree._classes.DecisionTreeClassifier'>\") & plot_res:\n",
    "        plotDecisionTreeResults(cm, clf, X_train, y_train, X_test, y_test, accuracy, recall, Fmeasure)\n",
    "    if (str(type(clf)) == \"<class 'sklearn.svm._classes.SVC'>\") & plot_res:\n",
    "        plotSVCResults(cm, clf, X_train, y_train, X_test, y_test, accuracy, recall, Fmeasure)\n",
    "        \n",
    "    return accuracies, recalls, Fmeasures, left_class_nb, right_class_nb, left_class_fit, right_class_fit"
   ]
  },
  {
   "cell_type": "markdown",
   "id": "05be5af8",
   "metadata": {},
   "source": [
    "# Cross-Validation Binary Classifier"
   ]
  },
  {
   "cell_type": "code",
   "execution_count": 4,
   "id": "509ea047",
   "metadata": {},
   "outputs": [],
   "source": [
    "def crossValidationBinaryClassifier(clf, X, y, test_size, n_repeats):\n",
    "    \n",
    "    # Oversample data\n",
    "    X, y = oversampling(X, y)\n",
    "    \n",
    "    # Undersample data\n",
    "    X, y = undersampling(X, y)\n",
    "    \n",
    "    # Arrays that contains computed metrics from the model n_repeats time\n",
    "    accuracies = []\n",
    "    recalls = []\n",
    "    Fmeasures = []\n",
    "    \n",
    "    # Execute Cross-Validation\n",
    "    cv = RepeatedKFold(n_splits = n_splits, n_repeats= n_repeats)\n",
    "    \n",
    "    # getting metrics values\n",
    "    accuracies = cross_val_score(clf, X, y, scoring='accuracy', cv=cv, error_score=\"raise\")\n",
    "    recalls = cross_val_score(clf, X, y, scoring='recall', cv=cv, error_score=\"raise\")\n",
    "    Fmeasures = cross_val_score(clf, X, y, scoring='f1', cv=cv, error_score=\"raise\")\n",
    "    \n",
    "    return accuracies, recalls, Fmeasures"
   ]
  },
  {
   "cell_type": "markdown",
   "id": "61c4152a",
   "metadata": {},
   "source": [
    "# Plot decision tree classifier results"
   ]
  },
  {
   "cell_type": "code",
   "execution_count": 5,
   "id": "b3620247",
   "metadata": {},
   "outputs": [],
   "source": [
    "def plotDecisionTreeResults(cm, clf, X_train, y_train, X_test, y_test, accuracy, recall, Fmeasure):\n",
    "    \n",
    "    # Plot confusion matrix\n",
    "    disp = ConfusionMatrixDisplay(confusion_matrix=cm,\n",
    "    display_labels=clf.classes_)\n",
    "    disp.plot()\n",
    "    plt.title(\"Confusion Matrix\", fontsize=20)\n",
    "    plt.show()\n",
    "    print(\"accuracy :\", accuracy)\n",
    "    print(\"recall :\", recall)\n",
    "    print(\"Fmeasure :\", Fmeasure)\n",
    "\n",
    "    # Plot decision tree\n",
    "    fig = plt.figure(figsize=(25,10))\n",
    "    _ = tree.plot_tree(clf,\n",
    "                   feature_names=X_train.columns,  \n",
    "                   class_names=clf.classes_,\n",
    "                   fontsize=25,\n",
    "                   filled=True)\n",
    "    plt.title(\"Decision Tree\", fontsize=35)\n",
    "    \n",
    "    plt.show()\n",
    "\n",
    "    # Plot train data\n",
    "    labelling(X_train, y_train)\n",
    "    \n",
    "    # Plot test data\n",
    "    labelling(X_test, y_test)"
   ]
  }
 ],
 "metadata": {
  "kernelspec": {
   "display_name": "Python 3 (ipykernel)",
   "language": "python",
   "name": "python3"
  },
  "language_info": {
   "codemirror_mode": {
    "name": "ipython",
    "version": 3
   },
   "file_extension": ".py",
   "mimetype": "text/x-python",
   "name": "python",
   "nbconvert_exporter": "python",
   "pygments_lexer": "ipython3",
   "version": "3.9.13"
  },
  "varInspector": {
   "cols": {
    "lenName": 16,
    "lenType": 16,
    "lenVar": 40
   },
   "kernels_config": {
    "python": {
     "delete_cmd_postfix": "",
     "delete_cmd_prefix": "del ",
     "library": "var_list.py",
     "varRefreshCmd": "print(var_dic_list())"
    },
    "r": {
     "delete_cmd_postfix": ") ",
     "delete_cmd_prefix": "rm(",
     "library": "var_list.r",
     "varRefreshCmd": "cat(var_dic_list()) "
    }
   },
   "types_to_exclude": [
    "module",
    "function",
    "builtin_function_or_method",
    "instance",
    "_Feature"
   ],
   "window_display": false
  }
 },
 "nbformat": 4,
 "nbformat_minor": 5
}
