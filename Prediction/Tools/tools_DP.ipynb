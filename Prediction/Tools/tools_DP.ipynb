{
 "cells": [
  {
   "cell_type": "markdown",
   "id": "2cf8663a",
   "metadata": {},
   "source": [
    "# Import librairies"
   ]
  },
  {
   "cell_type": "code",
   "execution_count": 1,
   "id": "39075559",
   "metadata": {},
   "outputs": [],
   "source": [
    "# Import main librairies\n",
    "import pandas as pd"
   ]
  },
  {
   "cell_type": "markdown",
   "id": "5aa37813",
   "metadata": {},
   "source": [
    "# Encoding data"
   ]
  },
  {
   "cell_type": "code",
   "execution_count": 2,
   "id": "1a02f1f2",
   "metadata": {},
   "outputs": [],
   "source": [
    "def encodeData(X):\n",
    "    \n",
    "    # Prepare some dummy variables into binary variables\n",
    "    if \"DIAG\" in X.columns.values:\n",
    "        X.loc[(X.DIAG != 'SLA'), \"DIAG\"] = \"Autre\"\n",
    "    if \"DIAGPROBA\" in X.columns.values:\n",
    "        X.loc[(X.DIAGPROBA != 'Forme certaine'), \"DIAGPROBA\"] = \"Autre\"\n",
    "    if \"CAUSEDCD_SLA\" in X.columns.values:\n",
    "        X.loc[(X.CAUSEDCD_SLA != 'Insuffisance respiratoire'), \"CAUSEDCD_SLA\"] = \"Autre\"\n",
    "    \n",
    "    # map binary variable to 0 or 1\n",
    "    cleanup_nums = {\n",
    "        \"SEX\": {\"Masculin\": 0, \"Féminin\": 1},\n",
    "        \"DIAG\": {\"SLA\": 0, \"Autre\": 1},\n",
    "        \"CAUSEDCD_SLA\": {\"Insuffisance respiratoire\":0, \"Autre\":1}\n",
    "    }\n",
    "    \n",
    "    # Encode binary variables to number 0 and 1\n",
    "    X = X.replace(cleanup_nums)\n",
    "    \n",
    "    # Encode dummy variables\n",
    "    X = pd.get_dummies(X, drop_first=True)\n",
    "    \n",
    "    \n",
    "    return X"
   ]
  },
  {
   "cell_type": "markdown",
   "id": "8c7f213b",
   "metadata": {},
   "source": [
    "# Label categorical data"
   ]
  },
  {
   "cell_type": "code",
   "execution_count": 3,
   "id": "d90cb0fe",
   "metadata": {},
   "outputs": [],
   "source": [
    "def labelData(X):\n",
    "    \n",
    "    X = X.copy()\n",
    "    \n",
    "    # Label the categorical variable\n",
    "    if \"DIAG\" == X.name:\n",
    "        X[(X != 'SLA')] = \"Autre\"\n",
    "    if \"DIAGPROBA\" == X.name:\n",
    "        X[(X != 'Forme certaine')] = \"Forme probable\"\n",
    "        print('test')\n",
    "    if \"CAUSEDCD_SLA\" == X.name:\n",
    "        X[(X != 'Insuffisance respiratoire')] = \"Autre\"\n",
    "    if \"DIAG_DCD_M\" == X.name:\n",
    "        X[(X != 'M18') & (X != 'M30')] = None\n",
    "    if \"FIRSTSYMPTOM_DCD_M\" == X.name:\n",
    "        X[(X != 'M18') & (X != 'M42')] = None\n",
    "        \n",
    "    return X"
   ]
  }
 ],
 "metadata": {
  "kernelspec": {
   "display_name": "Python 3 (ipykernel)",
   "language": "python",
   "name": "python3"
  },
  "language_info": {
   "codemirror_mode": {
    "name": "ipython",
    "version": 3
   },
   "file_extension": ".py",
   "mimetype": "text/x-python",
   "name": "python",
   "nbconvert_exporter": "python",
   "pygments_lexer": "ipython3",
   "version": "3.9.12"
  },
  "varInspector": {
   "cols": {
    "lenName": 16,
    "lenType": 16,
    "lenVar": 40
   },
   "kernels_config": {
    "python": {
     "delete_cmd_postfix": "",
     "delete_cmd_prefix": "del ",
     "library": "var_list.py",
     "varRefreshCmd": "print(var_dic_list())"
    },
    "r": {
     "delete_cmd_postfix": ") ",
     "delete_cmd_prefix": "rm(",
     "library": "var_list.r",
     "varRefreshCmd": "cat(var_dic_list()) "
    }
   },
   "types_to_exclude": [
    "module",
    "function",
    "builtin_function_or_method",
    "instance",
    "_Feature"
   ],
   "window_display": false
  }
 },
 "nbformat": 4,
 "nbformat_minor": 5
}
