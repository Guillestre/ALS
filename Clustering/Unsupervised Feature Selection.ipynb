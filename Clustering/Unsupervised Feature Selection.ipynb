{
 "cells": [
  {
   "cell_type": "markdown",
   "id": "27c35d8d",
   "metadata": {},
   "source": [
    "# Import librairies"
   ]
  },
  {
   "cell_type": "code",
   "execution_count": 8,
   "id": "8d5d6e22",
   "metadata": {},
   "outputs": [],
   "source": [
    "# Import general librairies\n",
    "import numpy as np\n",
    "import pandas as pd\n",
    "\n",
    "# Import librairies to connect with the database\n",
    "import psycopg2 as ps\n",
    "import pandas.io.sql as sqlio\n",
    "\n",
    "# Import matplotlib librairies\n",
    "import matplotlib as mpl\n",
    "import matplotlib.pyplot as plt\n",
    "from matplotlib.lines import Line2D\n",
    "\n",
    "# Import cluster algorithms librairies\n",
    "from sklearn_extra.cluster import KMedoids\n",
    "from sklearn.metrics import silhouette_score\n",
    "\n",
    "# Import Filter librairies\n",
    "from sklearn.feature_selection import VarianceThreshold\n",
    "\n",
    "# Import librairies for SVD entropy : univariate selection\n",
    "import antropy as ant\n",
    "\n",
    "# Import itertools librairie for combinations\n",
    "import itertools\n",
    "\n",
    "# Import Tools script\n",
    "%run ../Tools.ipynb"
   ]
  },
  {
   "cell_type": "markdown",
   "id": "03f0ae12",
   "metadata": {},
   "source": [
    "# Connect to database"
   ]
  },
  {
   "cell_type": "code",
   "execution_count": 9,
   "id": "37d85468",
   "metadata": {},
   "outputs": [],
   "source": [
    "conn = ps.connect(dbname=\"SLA\", user=\"postgres\", password=\"root\", host=\"localhost\", port=\"5432\")"
   ]
  },
  {
   "cell_type": "markdown",
   "id": "cd446465",
   "metadata": {},
   "source": [
    "# Get data"
   ]
  },
  {
   "cell_type": "code",
   "execution_count": 10,
   "id": "3483ed04",
   "metadata": {},
   "outputs": [
    {
     "data": {
      "text/plain": [
       "(1045, 15)"
      ]
     },
     "execution_count": 10,
     "metadata": {},
     "output_type": "execute_result"
    }
   ],
   "source": [
    "# Set variables to evaluate\n",
    "features = ['WEIGHT_VAR_M1', 'ALS_VAR_M1', 'CVF_VAR_M1',\n",
    "            'WEIGHT_VAR_M3', 'ALS_VAR_M3', 'CVF_VAR_M3',\n",
    "            'WEIGHT_VAR_M6', 'ALS_VAR_M6', 'CVF_VAR_M6',\n",
    "            'WEIGHT_VAR_M9', 'ALS_VAR_M9', 'CVF_VAR_M9',\n",
    "            'WEIGHT_VAR_M12', 'ALS_VAR_M12', 'CVF_VAR_M12']\n",
    "\n",
    "# Set sql query\n",
    "sql = 'SELECT * FROM \"PATIENTS\"'\n",
    "\n",
    "# Get data from database\n",
    "df_patients = sqlio.read_sql_query(sql, conn)[features].copy()\n",
    "df_patients.shape"
   ]
  },
  {
   "cell_type": "markdown",
   "id": "f0ea140d",
   "metadata": {},
   "source": [
    "# Scale data"
   ]
  },
  {
   "cell_type": "code",
   "execution_count": 11,
   "id": "93561d1d",
   "metadata": {},
   "outputs": [],
   "source": [
    "# Scale data\n",
    "X_scaled = (df_patients - df_patients.min())/ (df_patients.max() - df_patients.min())"
   ]
  },
  {
   "cell_type": "markdown",
   "id": "9f34e3f2",
   "metadata": {},
   "source": [
    "# Remove features with few values"
   ]
  },
  {
   "cell_type": "code",
   "execution_count": 7,
   "id": "cd55c108",
   "metadata": {},
   "outputs": [
    {
     "name": "stdout",
     "output_type": "stream",
     "text": [
      "New Shape : (1045, 15)\n"
     ]
    }
   ],
   "source": [
    "# Set n that mean the required limit of records from a feature\n",
    "n = 20\n",
    "# For each features\n",
    "for feature in features:\n",
    "    # Get his number of records\n",
    "    nb_records = np.sum(~pd.isna(X_scaled[feature]))\n",
    "    # If his number of records is lower than n\n",
    "    if(nb_records < n):\n",
    "        # Drop feature\n",
    "        X_scaled = X_scaled.drop(feature, axis=1)\n",
    "\n",
    "# Update features\n",
    "features = X_scaled.columns.values.tolist()\n",
    "# Get shape\n",
    "print('New Shape :', X_scaled.shape)"
   ]
  },
  {
   "cell_type": "markdown",
   "id": "497a5b3a",
   "metadata": {},
   "source": [
    "# Remove features with low variance"
   ]
  },
  {
   "cell_type": "code",
   "execution_count": 153,
   "id": "6f7a7f15",
   "metadata": {},
   "outputs": [
    {
     "name": "stdout",
     "output_type": "stream",
     "text": [
      "New Shape : (1000, 11)\n"
     ]
    }
   ],
   "source": [
    "# Set threshold\n",
    "threshold = 0.015\n",
    "# Set filter\n",
    "qconstant_filter = VarianceThreshold(threshold=threshold)\n",
    "# Fit data\n",
    "qconstant_filter.fit(X_scaled)\n",
    "\n",
    "# Get features to remove\n",
    "qconstant_columns = [column for column in X_scaled.columns if column not in X_scaled.columns[qconstant_filter.get_support()]]\n",
    "# Get current features\n",
    "features = X_scaled.columns.values.tolist()\n",
    "\n",
    "# For each constant features remove it from the features array to evaluate\n",
    "for cf in qconstant_columns:\n",
    "    features.remove(cf)\n",
    "\n",
    "# Remove features with low variance from the dataframe\n",
    "X_scaled_arr = qconstant_filter.transform(X_scaled)\n",
    "X_scaled = pd.DataFrame(X_scaled_arr, columns=features)\n",
    "\n",
    "# Show shape\n",
    "print('New Shape :', X_scaled.shape)"
   ]
  },
  {
   "cell_type": "markdown",
   "id": "6745af94",
   "metadata": {},
   "source": [
    "# Generate all possible subset of features"
   ]
  },
  {
   "cell_type": "code",
   "execution_count": 12,
   "id": "6fe137f7",
   "metadata": {},
   "outputs": [],
   "source": [
    "# Set n that means the maximum number (n - 1) of features for a subset\n",
    "n = 4\n",
    "# Set list that will contains all possible feature subset between 1 and n features\n",
    "features_subset = []\n",
    "for i in range(1, n):  # to get all lengths: 0 to 3\n",
    "    for subset in itertools.combinations(features, i):\n",
    "        features_subset.append(list(subset))"
   ]
  },
  {
   "cell_type": "markdown",
   "id": "75201981",
   "metadata": {},
   "source": [
    "# Feature selection with Kmedoid"
   ]
  },
  {
   "cell_type": "code",
   "execution_count": 15,
   "id": "77582603",
   "metadata": {
    "scrolled": true
   },
   "outputs": [
    {
     "name": "stderr",
     "output_type": "stream",
     "text": [
      "C:\\Users\\guill\\anaconda3\\lib\\site-packages\\sklearn_extra\\cluster\\_k_medoids.py:275: UserWarning: Cluster 1 is empty! self.labels_[self.medoid_indices_[1]] may not be labeled with its corresponding cluster (1).\n",
      "  warnings.warn(\n",
      "C:\\Users\\guill\\anaconda3\\lib\\site-packages\\sklearn_extra\\cluster\\_k_medoids.py:275: UserWarning: Cluster 1 is empty! self.labels_[self.medoid_indices_[1]] may not be labeled with its corresponding cluster (1).\n",
      "  warnings.warn(\n",
      "C:\\Users\\guill\\anaconda3\\lib\\site-packages\\sklearn_extra\\cluster\\_k_medoids.py:275: UserWarning: Cluster 1 is empty! self.labels_[self.medoid_indices_[1]] may not be labeled with its corresponding cluster (1).\n",
      "  warnings.warn(\n",
      "C:\\Users\\guill\\anaconda3\\lib\\site-packages\\sklearn_extra\\cluster\\_k_medoids.py:275: UserWarning: Cluster 1 is empty! self.labels_[self.medoid_indices_[1]] may not be labeled with its corresponding cluster (1).\n",
      "  warnings.warn(\n",
      "C:\\Users\\guill\\anaconda3\\lib\\site-packages\\sklearn_extra\\cluster\\_k_medoids.py:275: UserWarning: Cluster 1 is empty! self.labels_[self.medoid_indices_[1]] may not be labeled with its corresponding cluster (1).\n",
      "  warnings.warn(\n",
      "C:\\Users\\guill\\anaconda3\\lib\\site-packages\\sklearn_extra\\cluster\\_k_medoids.py:275: UserWarning: Cluster 1 is empty! self.labels_[self.medoid_indices_[1]] may not be labeled with its corresponding cluster (1).\n",
      "  warnings.warn(\n",
      "C:\\Users\\guill\\anaconda3\\lib\\site-packages\\sklearn_extra\\cluster\\_k_medoids.py:275: UserWarning: Cluster 1 is empty! self.labels_[self.medoid_indices_[1]] may not be labeled with its corresponding cluster (1).\n",
      "  warnings.warn(\n",
      "C:\\Users\\guill\\anaconda3\\lib\\site-packages\\sklearn_extra\\cluster\\_k_medoids.py:275: UserWarning: Cluster 1 is empty! self.labels_[self.medoid_indices_[1]] may not be labeled with its corresponding cluster (1).\n",
      "  warnings.warn(\n",
      "C:\\Users\\guill\\anaconda3\\lib\\site-packages\\sklearn_extra\\cluster\\_k_medoids.py:275: UserWarning: Cluster 1 is empty! self.labels_[self.medoid_indices_[1]] may not be labeled with its corresponding cluster (1).\n",
      "  warnings.warn(\n",
      "C:\\Users\\guill\\anaconda3\\lib\\site-packages\\sklearn_extra\\cluster\\_k_medoids.py:275: UserWarning: Cluster 1 is empty! self.labels_[self.medoid_indices_[1]] may not be labeled with its corresponding cluster (1).\n",
      "  warnings.warn(\n",
      "C:\\Users\\guill\\anaconda3\\lib\\site-packages\\sklearn_extra\\cluster\\_k_medoids.py:275: UserWarning: Cluster 1 is empty! self.labels_[self.medoid_indices_[1]] may not be labeled with its corresponding cluster (1).\n",
      "  warnings.warn(\n",
      "C:\\Users\\guill\\anaconda3\\lib\\site-packages\\sklearn_extra\\cluster\\_k_medoids.py:275: UserWarning: Cluster 1 is empty! self.labels_[self.medoid_indices_[1]] may not be labeled with its corresponding cluster (1).\n",
      "  warnings.warn(\n",
      "C:\\Users\\guill\\anaconda3\\lib\\site-packages\\sklearn_extra\\cluster\\_k_medoids.py:275: UserWarning: Cluster 1 is empty! self.labels_[self.medoid_indices_[1]] may not be labeled with its corresponding cluster (1).\n",
      "  warnings.warn(\n",
      "C:\\Users\\guill\\anaconda3\\lib\\site-packages\\sklearn_extra\\cluster\\_k_medoids.py:275: UserWarning: Cluster 1 is empty! self.labels_[self.medoid_indices_[1]] may not be labeled with its corresponding cluster (1).\n",
      "  warnings.warn(\n",
      "C:\\Users\\guill\\anaconda3\\lib\\site-packages\\sklearn_extra\\cluster\\_k_medoids.py:275: UserWarning: Cluster 1 is empty! self.labels_[self.medoid_indices_[1]] may not be labeled with its corresponding cluster (1).\n",
      "  warnings.warn(\n",
      "C:\\Users\\guill\\anaconda3\\lib\\site-packages\\sklearn_extra\\cluster\\_k_medoids.py:275: UserWarning: Cluster 1 is empty! self.labels_[self.medoid_indices_[1]] may not be labeled with its corresponding cluster (1).\n",
      "  warnings.warn(\n",
      "C:\\Users\\guill\\anaconda3\\lib\\site-packages\\sklearn_extra\\cluster\\_k_medoids.py:275: UserWarning: Cluster 1 is empty! self.labels_[self.medoid_indices_[1]] may not be labeled with its corresponding cluster (1).\n",
      "  warnings.warn(\n"
     ]
    }
   ],
   "source": [
    "# Create dataframe that will contains silhouette scores for each feature\n",
    "df_kmedoids_results = pd.DataFrame(columns=['Features Subset', 'Score', 'Patients'])\n",
    "\n",
    "# Number of clusters to look for\n",
    "n_clusters = 2\n",
    "\n",
    "# For each features subset\n",
    "for subset in features_subset:\n",
    "\n",
    "    # If current subset contains just one feature\n",
    "    if len(subset) == 1:   \n",
    "        # add temporary y axis variable set to zero\n",
    "        X_scaled['y'] = np.zeros(len(X_scaled.copy())).copy()\n",
    "\n",
    "        # Set variable to be evaluated\n",
    "        variables = [subset[0], 'y']\n",
    "    # Otherwise, there are several features\n",
    "    else:\n",
    "        variables = subset\n",
    "\n",
    "    # Make a copy of the dataframe\n",
    "    df = X_scaled[variables]\n",
    "    df= df.dropna()\n",
    "\n",
    "    # Metric used\n",
    "    metric = \"manhattan\"\n",
    "\n",
    "    # Set up clustering method\n",
    "    kmedoids = KMedoids(n_clusters=n_clusters, metric=metric)\n",
    "    \n",
    "    if len(df[variables]) >= n_clusters:\n",
    "        df['cluster'] = kmedoids.fit_predict(df[variables])\n",
    "        # Get score silhouette if the number of labels is equal to the number of cluster set\n",
    "        if (kmedoids.n_clusters == len(np.unique(df['cluster']))):\n",
    "            if len(df['cluster']) > 2:\n",
    "                score = silhouette_score(df[variables], kmedoids.fit_predict(df[variables]), metric=metric)\n",
    "                # Add subset and score into dataframe\n",
    "                df_kmedoids_results.loc[len(df_kmedoids_results.index)] = [subset, score, float(len(df))]"
   ]
  },
  {
   "cell_type": "code",
   "execution_count": 16,
   "id": "054898db",
   "metadata": {},
   "outputs": [
    {
     "name": "stdout",
     "output_type": "stream",
     "text": [
      "                                    Features Subset     Score  Patients\n",
      "72                      [WEIGHT_VAR_M6, ALS_VAR_M9]  0.611125     176.0\n",
      "75                     [WEIGHT_VAR_M6, ALS_VAR_M12]  0.605228     111.0\n",
      "4                                      [ALS_VAR_M9]  0.590123     291.0\n",
      "3                                   [WEIGHT_VAR_M9]  0.571023     270.0\n",
      "5                                      [CVF_VAR_M9]  0.569188     163.0\n",
      "73                      [WEIGHT_VAR_M6, CVF_VAR_M9]  0.567623      90.0\n",
      "493        [WEIGHT_VAR_M6, ALS_VAR_M9, ALS_VAR_M12]  0.564741      88.0\n",
      "330           [CVF_VAR_M1, ALS_VAR_M9, CVF_VAR_M12]  0.559928      10.0\n",
      "0                                   [WEIGHT_VAR_M3]  0.558733     382.0\n",
      "97                        [ALS_VAR_M9, ALS_VAR_M12]  0.548428     148.0\n",
      "2                                      [CVF_VAR_M6]  0.547131     200.0\n",
      "79                         [ALS_VAR_M6, ALS_VAR_M9]  0.544394     184.0\n",
      "82                        [ALS_VAR_M6, ALS_VAR_M12]  0.544087     116.0\n",
      "324     [CVF_VAR_M1, WEIGHT_VAR_M9, WEIGHT_VAR_M12]  0.543510      17.0\n",
      "70                      [WEIGHT_VAR_M6, CVF_VAR_M6]  0.542339     163.0\n",
      "76                     [WEIGHT_VAR_M6, CVF_VAR_M12]  0.541327      57.0\n",
      "43                   [WEIGHT_VAR_M3, WEIGHT_VAR_M6]  0.540336     184.0\n",
      "309            [CVF_VAR_M1, ALS_VAR_M6, CVF_VAR_M6]  0.536686      16.0\n",
      "332           [CVF_VAR_M1, CVF_VAR_M9, ALS_VAR_M12]  0.536431      14.0\n",
      "22                      [ALS_VAR_M1, WEIGHT_VAR_M6]  0.535444     186.0\n",
      "296         [CVF_VAR_M1, CVF_VAR_M3, WEIGHT_VAR_M9]  0.534937       4.0\n",
      "478        [WEIGHT_VAR_M6, ALS_VAR_M6, ALS_VAR_M12]  0.534087     109.0\n",
      "71                   [WEIGHT_VAR_M6, WEIGHT_VAR_M9]  0.534073     176.0\n",
      "514           [ALS_VAR_M6, ALS_VAR_M9, ALS_VAR_M12]  0.533366      92.0\n",
      "302         [CVF_VAR_M1, WEIGHT_VAR_M6, CVF_VAR_M6]  0.530234      17.0\n",
      "39                        [CVF_VAR_M1, ALS_VAR_M12]  0.527391      28.0\n",
      "475         [WEIGHT_VAR_M6, ALS_VAR_M6, ALS_VAR_M9]  0.524019     173.0\n",
      "67                        [CVF_VAR_M3, ALS_VAR_M12]  0.522283      75.0\n",
      "32                      [CVF_VAR_M1, WEIGHT_VAR_M6]  0.522246      30.0\n",
      "484        [WEIGHT_VAR_M6, CVF_VAR_M6, ALS_VAR_M12]  0.521404      63.0\n",
      "58                        [ALS_VAR_M3, ALS_VAR_M12]  0.519596     131.0\n",
      "407        [ALS_VAR_M3, WEIGHT_VAR_M6, ALS_VAR_M12]  0.519189      78.0\n",
      "429           [ALS_VAR_M3, ALS_VAR_M9, ALS_VAR_M12]  0.518548      83.0\n",
      "465           [CVF_VAR_M3, ALS_VAR_M9, ALS_VAR_M12]  0.518220      44.0\n",
      "88                        [CVF_VAR_M6, ALS_VAR_M12]  0.515103      73.0\n",
      "6                                     [CVF_VAR_M12]  0.515045     156.0\n",
      "164     [WEIGHT_VAR_M1, WEIGHT_VAR_M6, ALS_VAR_M12]  0.514436      72.0\n",
      "69                      [WEIGHT_VAR_M6, ALS_VAR_M6]  0.512767     295.0\n",
      "92                  [WEIGHT_VAR_M9, WEIGHT_VAR_M12]  0.511550     132.0\n",
      "55                         [ALS_VAR_M3, ALS_VAR_M9]  0.508584     151.0\n",
      "404         [ALS_VAR_M3, WEIGHT_VAR_M6, ALS_VAR_M9]  0.503437     112.0\n",
      "242        [ALS_VAR_M1, WEIGHT_VAR_M6, ALS_VAR_M12]  0.503403      74.0\n",
      "1                                      [CVF_VAR_M3]  0.503036     215.0\n",
      "77                         [ALS_VAR_M6, CVF_VAR_M6]  0.500228     167.0\n",
      "85                         [CVF_VAR_M6, ALS_VAR_M9]  0.499980     114.0\n",
      "488  [WEIGHT_VAR_M6, WEIGHT_VAR_M9, WEIGHT_VAR_M12]  0.499687      85.0\n",
      "481         [WEIGHT_VAR_M6, CVF_VAR_M6, ALS_VAR_M9]  0.498998      99.0\n",
      "336          [CVF_VAR_M1, ALS_VAR_M12, CVF_VAR_M12]  0.497545      16.0\n",
      "286            [CVF_VAR_M1, ALS_VAR_M3, CVF_VAR_M6]  0.495407       6.0\n",
      "249           [ALS_VAR_M1, ALS_VAR_M6, ALS_VAR_M12]  0.494127      75.0\n"
     ]
    }
   ],
   "source": [
    "# Largest\n",
    "res = df_kmedoids_results.nlargest(50, 'Score')\n",
    "print(res)"
   ]
  },
  {
   "cell_type": "code",
   "execution_count": 17,
   "id": "0ef53f60",
   "metadata": {},
   "outputs": [
    {
     "name": "stdout",
     "output_type": "stream",
     "text": [
      "                                  Features Subset     Score  Patients\n",
      "307      [CVF_VAR_M1, WEIGHT_VAR_M6, ALS_VAR_M12]  0.015170      10.0\n",
      "370      [WEIGHT_VAR_M3, ALS_VAR_M6, CVF_VAR_M12]  0.081818      32.0\n",
      "314         [CVF_VAR_M1, ALS_VAR_M6, ALS_VAR_M12]  0.084057       9.0\n",
      "275       [CVF_VAR_M1, WEIGHT_VAR_M3, ALS_VAR_M6]  0.085951       8.0\n",
      "261      [ALS_VAR_M1, WEIGHT_VAR_M9, CVF_VAR_M12]  0.091929      48.0\n",
      "113       [WEIGHT_VAR_M1, ALS_VAR_M1, CVF_VAR_M9]  0.094198      85.0\n",
      "457         [CVF_VAR_M3, CVF_VAR_M6, CVF_VAR_M12]  0.095413      21.0\n",
      "320         [CVF_VAR_M1, CVF_VAR_M6, ALS_VAR_M12]  0.116531       9.0\n",
      "297          [CVF_VAR_M1, CVF_VAR_M3, ALS_VAR_M9]  0.119341       4.0\n",
      "289          [CVF_VAR_M1, ALS_VAR_M3, CVF_VAR_M9]  0.123428       3.0\n",
      "168       [WEIGHT_VAR_M1, ALS_VAR_M6, ALS_VAR_M9]  0.124602     111.0\n",
      "126      [WEIGHT_VAR_M1, CVF_VAR_M1, ALS_VAR_M12]  0.127538      24.0\n",
      "283          [CVF_VAR_M1, ALS_VAR_M3, CVF_VAR_M3]  0.129066      11.0\n",
      "285          [CVF_VAR_M1, ALS_VAR_M3, ALS_VAR_M6]  0.132187       8.0\n",
      "551     [ALS_VAR_M9, WEIGHT_VAR_M12, CVF_VAR_M12]  0.137554      68.0\n",
      "196          [ALS_VAR_M1, CVF_VAR_M1, CVF_VAR_M3]  0.141699      11.0\n",
      "278       [CVF_VAR_M1, WEIGHT_VAR_M3, ALS_VAR_M9]  0.144505       7.0\n",
      "322       [CVF_VAR_M1, WEIGHT_VAR_M9, ALS_VAR_M9]  0.145617      28.0\n",
      "471     [CVF_VAR_M3, WEIGHT_VAR_M12, CVF_VAR_M12]  0.148279      44.0\n",
      "396          [ALS_VAR_M3, CVF_VAR_M3, ALS_VAR_M9]  0.156691      63.0\n",
      "400         [ALS_VAR_M3, CVF_VAR_M3, CVF_VAR_M12]  0.158312      44.0\n",
      "146   [WEIGHT_VAR_M1, ALS_VAR_M3, WEIGHT_VAR_M12]  0.159674      80.0\n",
      "466         [CVF_VAR_M3, ALS_VAR_M9, CVF_VAR_M12]  0.166815      26.0\n",
      "355      [WEIGHT_VAR_M3, CVF_VAR_M3, CVF_VAR_M12]  0.172020      43.0\n",
      "235         [ALS_VAR_M1, CVF_VAR_M3, CVF_VAR_M12]  0.172887      28.0\n",
      "388      [WEIGHT_VAR_M3, CVF_VAR_M9, CVF_VAR_M12]  0.173175      35.0\n",
      "506         [ALS_VAR_M6, CVF_VAR_M6, CVF_VAR_M12]  0.178041      42.0\n",
      "385      [WEIGHT_VAR_M3, ALS_VAR_M9, CVF_VAR_M12]  0.188735      37.0\n",
      "127      [WEIGHT_VAR_M1, CVF_VAR_M1, CVF_VAR_M12]  0.191535      12.0\n",
      "541   [WEIGHT_VAR_M9, CVF_VAR_M9, WEIGHT_VAR_M12]  0.192365      70.0\n",
      "287       [CVF_VAR_M1, ALS_VAR_M3, WEIGHT_VAR_M9]  0.194442       8.0\n",
      "511      [ALS_VAR_M6, WEIGHT_VAR_M9, CVF_VAR_M12]  0.196160      41.0\n",
      "451         [CVF_VAR_M3, ALS_VAR_M6, CVF_VAR_M12]  0.202615      18.0\n",
      "542      [WEIGHT_VAR_M9, CVF_VAR_M9, ALS_VAR_M12]  0.209273      72.0\n",
      "367       [WEIGHT_VAR_M3, ALS_VAR_M6, CVF_VAR_M9]  0.209970      47.0\n",
      "337       [WEIGHT_VAR_M3, ALS_VAR_M3, CVF_VAR_M3]  0.210423     163.0\n",
      "198          [ALS_VAR_M1, CVF_VAR_M1, ALS_VAR_M6]  0.212868      20.0\n",
      "516      [ALS_VAR_M6, CVF_VAR_M9, WEIGHT_VAR_M12]  0.215227      41.0\n",
      "293       [CVF_VAR_M1, CVF_VAR_M3, WEIGHT_VAR_M6]  0.217675       6.0\n",
      "395       [ALS_VAR_M3, CVF_VAR_M3, WEIGHT_VAR_M9]  0.218265      60.0\n",
      "423       [ALS_VAR_M3, WEIGHT_VAR_M9, CVF_VAR_M9]  0.218499      62.0\n",
      "545  [WEIGHT_VAR_M9, WEIGHT_VAR_M12, CVF_VAR_M12]  0.218797      66.0\n",
      "426      [ALS_VAR_M3, WEIGHT_VAR_M9, CVF_VAR_M12]  0.220324      39.0\n",
      "472        [CVF_VAR_M3, ALS_VAR_M12, CVF_VAR_M12]  0.221378      44.0\n",
      "274    [CVF_VAR_M1, WEIGHT_VAR_M3, WEIGHT_VAR_M6]  0.224078       9.0\n",
      "216      [ALS_VAR_M1, WEIGHT_VAR_M3, CVF_VAR_M12]  0.226750      37.0\n",
      "448          [CVF_VAR_M3, ALS_VAR_M6, CVF_VAR_M9]  0.229453      33.0\n"
     ]
    }
   ],
   "source": [
    "# Smallest\n",
    "res = df_kmedoids_results.nsmallest(50, 'Score')\n",
    "print(res[res.Score >= 0])"
   ]
  },
  {
   "cell_type": "code",
   "execution_count": null,
   "id": "f7183c8c",
   "metadata": {},
   "outputs": [],
   "source": []
  }
 ],
 "metadata": {
  "kernelspec": {
   "display_name": "Python 3 (ipykernel)",
   "language": "python",
   "name": "python3"
  },
  "language_info": {
   "codemirror_mode": {
    "name": "ipython",
    "version": 3
   },
   "file_extension": ".py",
   "mimetype": "text/x-python",
   "name": "python",
   "nbconvert_exporter": "python",
   "pygments_lexer": "ipython3",
   "version": "3.9.7"
  },
  "varInspector": {
   "cols": {
    "lenName": 16,
    "lenType": 16,
    "lenVar": 40
   },
   "kernels_config": {
    "python": {
     "delete_cmd_postfix": "",
     "delete_cmd_prefix": "del ",
     "library": "var_list.py",
     "varRefreshCmd": "print(var_dic_list())"
    },
    "r": {
     "delete_cmd_postfix": ") ",
     "delete_cmd_prefix": "rm(",
     "library": "var_list.r",
     "varRefreshCmd": "cat(var_dic_list()) "
    }
   },
   "types_to_exclude": [
    "module",
    "function",
    "builtin_function_or_method",
    "instance",
    "_Feature"
   ],
   "window_display": false
  }
 },
 "nbformat": 4,
 "nbformat_minor": 5
}
