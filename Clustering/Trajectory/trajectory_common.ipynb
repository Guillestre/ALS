{
 "cells": [
  {
   "cell_type": "markdown",
   "metadata": {},
   "source": [
    "# Import librairies"
   ]
  },
  {
   "cell_type": "code",
   "execution_count": 2,
   "metadata": {
    "id": "WMvMai1KijHj"
   },
   "outputs": [],
   "source": [
    "# Import general librairies\n",
    "import numpy as np\n",
    "import pandas as pd\n",
    "\n",
    "# Import librairies to connect with the database\n",
    "import sqlalchemy\n",
    "\n",
    "# Import math libraries\n",
    "import math\n",
    "\n",
    "# Import matplotlib libraries\n",
    "import matplotlib.pyplot as plt\n",
    "from matplotlib.lines import Line2D\n",
    "\n",
    "# Import twed\n",
    "import pytwed\n",
    "\n",
    "# Import random libraries\n",
    "import random\n",
    "\n",
    "# Import UMAP library\n",
    "import umap.umap_ as umap\n",
    "\n",
    "# Import clustering librairies\n",
    "from sklearn_extra.cluster import KMedoids\n",
    "from sklearn.cluster import DBSCAN\n",
    "\n",
    "# Import silhouette score librairies\n",
    "from sklearn.metrics import silhouette_samples, silhouette_score\n",
    "from yellowbrick.cluster import SilhouetteVisualizer\n",
    "import matplotlib.cm as cm\n",
    "\n",
    "# Import Rand index librairy\n",
    "from sklearn.metrics.cluster import adjusted_rand_score\n",
    "\n",
    "# Import interactive librairies\n",
    "import bokeh.plotting as bpl\n",
    "from bokeh.plotting import figure, show\n",
    "\n",
    "# Import classification metrics\n",
    "from sklearn.metrics import f1_score, accuracy_score, recall_score\n",
    "\n",
    "# Import Confusion matrix librairies\n",
    "from sklearn.metrics import confusion_matrix\n",
    "from sklearn.metrics import ConfusionMatrixDisplay\n",
    "\n",
    "# Import train test split librairy\n",
    "from sklearn.model_selection import train_test_split\n",
    "\n",
    "# Import Classifier\n",
    "from sklearn.tree import DecisionTreeClassifier\n",
    "\n",
    "# Import librairie to plot trees\n",
    "from sklearn import tree\n",
    "\n",
    "# Import Cross Validation librairies\n",
    "from sklearn.model_selection import cross_val_score\n",
    "from sklearn.model_selection import RepeatedKFold\n",
    "\n",
    "# Import undersampling librairies\n",
    "from imblearn.under_sampling import CondensedNearestNeighbour\n",
    "from imblearn.under_sampling import NearMiss\n",
    "from imblearn.under_sampling import TomekLinks\n",
    "from imblearn.under_sampling import EditedNearestNeighbours\n",
    "from imblearn.under_sampling import OneSidedSelection\n",
    "\n",
    "# Import statistic test librairies\n",
    "from scipy.stats import shapiro\n",
    "from scipy.stats import kstest\n",
    "\n",
    "# Import scipy librairy\n",
    "import scipy\n",
    "\n",
    "# disable chained assignments\n",
    "pd.options.mode.chained_assignment = None"
   ]
  },
  {
   "cell_type": "code",
   "execution_count": 1,
   "metadata": {},
   "outputs": [],
   "source": [
    "# Import useful notebooks\n",
    "%run Tools/prepare_trajectory.ipynb\n",
    "%run Tools/plot_trajectory.ipynb\n",
    "%run Tools/get_data.ipynb\n",
    "%run Tools/label_trajectory.ipynb\n",
    "%run Tools/statistic_trajectory.ipynb\n",
    "%run Tools/classification_trajectory.ipynb\n",
    "%run Tools/misc_trajectory.ipynb"
   ]
  },
  {
   "cell_type": "markdown",
   "metadata": {},
   "source": [
    "# Create Cost Matrix"
   ]
  },
  {
   "cell_type": "code",
   "execution_count": 14,
   "metadata": {},
   "outputs": [],
   "source": [
    "def create_matrix(tr_id_list, df_values, df_timestamps, nu, lmbda):\n",
    "    \n",
    "    \"\"\"\n",
    "    Create matrix from trajectories with TWED similarity measure for each trajectory pair.\n",
    "    \n",
    "    :param tr_id_list: List that contains patient ID\n",
    "    :param df_values: Dataframe that contains values from trajectories\n",
    "    :param df_timestamps: Dataframe that contains timestamps from trajectories\n",
    "    :param nu: TWED parameter. Add penalty on trajectory elasticity\n",
    "    :param nu: TWED parameter. Add penalty on trajectory when deleting an appointment\n",
    "    :return: Cost matrix\n",
    "    \"\"\"\n",
    "\n",
    "    # Set cost matrix with zeros\n",
    "    cost_matrix = np.zeros((len(tr_id_list), len(tr_id_list))).copy()\n",
    "\n",
    "    # For each line from the matrix\n",
    "    for i, tr1_id in enumerate(tr_id_list):\n",
    "        # For each column from the matrix\n",
    "        for y, tr2_id in enumerate(tr_id_list):\n",
    "\n",
    "            # Get values and timestamps from the trajectory\n",
    "            v1, t1 = get_trajectory_values_timestamps(tr1_id, df_values, df_timestamps)\n",
    "            v2, t2 = get_trajectory_values_timestamps(tr2_id, df_values, df_timestamps)\n",
    "\n",
    "            # Filter trajectories by removing null values\n",
    "            v1_filter, t1_filter = filter_trajectory(v1, t1)\n",
    "            v2_filter, t2_filter = filter_trajectory(v2, t2)\n",
    "\n",
    "            # Compute twed\n",
    "            cost = pytwed.twed(\n",
    "                v1_filter,\n",
    "                v2_filter,\n",
    "                t1_filter,\n",
    "                t2_filter,\n",
    "                nu = nu,\n",
    "                lmbda = lmbda,\n",
    "            p = 2)\n",
    "\n",
    "            # Set cost into cost matrix\n",
    "            cost_matrix[i][y] = cost\n",
    "            cost_matrix[y][i] = cost\n",
    "            \n",
    "    return cost_matrix"
   ]
  },
  {
   "cell_type": "code",
   "execution_count": null,
   "metadata": {},
   "outputs": [],
   "source": []
  }
 ],
 "metadata": {
  "colab": {
   "provenance": []
  },
  "kernelspec": {
   "display_name": "Python 3 (ipykernel)",
   "language": "python",
   "name": "python3"
  },
  "language_info": {
   "codemirror_mode": {
    "name": "ipython",
    "version": 3
   },
   "file_extension": ".py",
   "mimetype": "text/x-python",
   "name": "python",
   "nbconvert_exporter": "python",
   "pygments_lexer": "ipython3",
   "version": "3.9.13"
  },
  "varInspector": {
   "cols": {
    "lenName": 16,
    "lenType": 16,
    "lenVar": 40
   },
   "kernels_config": {
    "python": {
     "delete_cmd_postfix": "",
     "delete_cmd_prefix": "del ",
     "library": "var_list.py",
     "varRefreshCmd": "print(var_dic_list())"
    },
    "r": {
     "delete_cmd_postfix": ") ",
     "delete_cmd_prefix": "rm(",
     "library": "var_list.r",
     "varRefreshCmd": "cat(var_dic_list()) "
    }
   },
   "types_to_exclude": [
    "module",
    "function",
    "builtin_function_or_method",
    "instance",
    "_Feature"
   ],
   "window_display": false
  },
  "vscode": {
   "interpreter": {
    "hash": "e414a0fdfb09aafc4cc74cd5120d3e3d22191b60104af0a254b5a3ba4b1b2537"
   }
  }
 },
 "nbformat": 4,
 "nbformat_minor": 1
}
