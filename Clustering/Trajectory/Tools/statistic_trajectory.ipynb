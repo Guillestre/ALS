{
 "cells": [
  {
   "cell_type": "code",
   "execution_count": 3,
   "id": "6258aa4d",
   "metadata": {},
   "outputs": [],
   "source": [
    "def get_periodicity(timestamps):\n",
    "    \n",
    "    \"\"\"\n",
    "    Compute average periodicity for a trajectory.\n",
    "    \n",
    "    :param timestamps: List of timestamps for a trajectory \n",
    "    :return: Average periodicity\n",
    "    \"\"\"\n",
    "    \n",
    "    periodicities = []\n",
    "    for i, t in enumerate(timestamps):\n",
    "        if i + 1 < len(timestamps):\n",
    "            periodicities.append(np.abs(timestamps[i+1] - timestamps[i]))\n",
    "    return np.average(periodicities)"
   ]
  },
  {
   "cell_type": "code",
   "execution_count": 4,
   "id": "579eac35",
   "metadata": {},
   "outputs": [],
   "source": [
    "def compute_statistics(values, timestamps):\n",
    "    \n",
    "    \"\"\"\n",
    "    Compute statistics from a trajectory.\n",
    "    :param values: List of values from a trajectory\n",
    "    :param timestamps: List of timestamps from a trajectory \n",
    "    :return: Vector of several computed statistics\n",
    "    \"\"\"\n",
    "    \n",
    "    # Compute statistics\n",
    "    avg = np.average(values)\n",
    "    std = np.std(values)\n",
    "    ped = get_periodicity(timestamps)\n",
    "    nb_point = len(values)\n",
    "    duration = timestamps[-1]\n",
    "\n",
    "    # Compute difference between first data point and last data point\n",
    "    diff_tendency_timestamp = (values[-1] - values[0])/(timestamps[-1])\n",
    "    diff_tendency_score = (values[-1] - values[0])/(values[0])\n",
    "    diff_tendency_nbpoint = (values[-1] - values[0])/(len(timestamps))\n",
    "\n",
    "    \n",
    "    return avg, std, ped, nb_point, duration, diff_tendency_timestamp, diff_tendency_score, diff_tendency_nbpoint"
   ]
  },
  {
   "cell_type": "code",
   "execution_count": 5,
   "id": "bbb111f5",
   "metadata": {},
   "outputs": [],
   "source": [
    "def get_trajectory_statistics(df_values, df_timestamps):\n",
    "    \n",
    "    \"\"\"\n",
    "    Create dataframe that contains several computed statistics from each trajectory.\n",
    "    :param df_values: Dataframe that contains values from trajectories\n",
    "    :param df_timestamps: Dataframe that contains timestamps from trajectories\n",
    "    :return: Vector of several computed statistics\n",
    "    \"\"\"\n",
    "\n",
    "    # Create Dataframe with these statistics\n",
    "    df_tr_stats = pd.DataFrame({'AVG':[], 'STD':[], 'PED':[], 'NBPOINT':[], 'DURATION':[],\n",
    "                                'DIFF_TENDENCY_TIMESTAMP':[], 'DIFF_TENDENCY_SCORE':[], 'DIFF_TENDENCY_NBPOINT':[]})\n",
    "    \n",
    "    for index in np.unique(df_values.index):\n",
    "\n",
    "        # Get values and timestamps from the trajectory\n",
    "        values_filter, timestamps_filter = get_filtered_trajectory_values_timestamps(index, df_values, df_timestamps)\n",
    "\n",
    "        # Compute statistics\n",
    "        avg, std, ped, np_point, duration, diff_tendency_timestamp, diff_tendency_score, diff_tendency_nbpoint = compute_statistics(values_filter, timestamps_filter)\n",
    "        \n",
    "        # Fill dataframe\n",
    "        df_tr_stats.loc[index] = [avg, \n",
    "                                  std, \n",
    "                                  ped, \n",
    "                                  np_point,\n",
    "                                  duration,\n",
    "                                  diff_tendency_timestamp, \n",
    "                                  diff_tendency_score, \n",
    "                                  diff_tendency_nbpoint]\n",
    "\n",
    "    # Rename index as ID patient\n",
    "    df_tr_stats.index.rename(\"ID\")\n",
    "    \n",
    "    return df_tr_stats"
   ]
  },
  {
   "cell_type": "code",
   "execution_count": null,
   "id": "ed607b24",
   "metadata": {},
   "outputs": [],
   "source": [
    "def get_score_coef(y_true_name, y_pred_name, coefficients, trajectory_dataframes, target, average, encoding_rules=None):\n",
    "    \n",
    "    \"\"\"\n",
    "    Compute several metrics (ACCURACY, RECALL...) from a list of coefficients\n",
    "    :param y_true_name: Variable name to predict\n",
    "    :param y_pred_name: Variable name predicted\n",
    "    :param coefficients: List of coefficients to test\n",
    "    :param trajectory_dataframes: List of dataframes that contains [df_values, df_timestamps, df_cat]\n",
    "    :param target: Variable name to discretize into groups\n",
    "    :param average: required to set the way how metrics are computed\n",
    "    :param encoding_rules: List of rules to encode categorical variables from y_true and y_pred. (Optional)\n",
    "    :return: Dataframe that contains score metrics for each coefficient\n",
    "    \"\"\"\n",
    "    \n",
    "    # Set dataframe with results\n",
    "    df_scores = pd.DataFrame({\"COEF\":[], \"ACCURACY\":[], \"RECALL\":[], \"F1\":[], \"ARI\":[]})\n",
    "\n",
    "    # For each coef\n",
    "    for tmp_coef in coefficients:\n",
    "        \n",
    "        # Join statistic labeled (Predicted values) and categorical values (True values)\n",
    "        df_tr_labels = label_trajectories_by_stat(trajectory_dataframes[0], trajectory_dataframes[1], tmp_coef, target)\n",
    "        df_tr_labels_cat = df_tr_labels.join(trajectory_dataframes[2])[[y_true_name, y_pred_name]]\n",
    "\n",
    "        # Encode categorical value into numerical\n",
    "        if encoding_rules != None: df_tr_labels_cat = df_tr_labels_cat.replace(encoding_rules)\n",
    "\n",
    "        # Get labels and categorical values\n",
    "        y_true = np.array(df_tr_labels_cat[y_true_name]).tolist()\n",
    "        y_pred = np.array(df_tr_labels_cat[y_pred_name]).tolist()\n",
    "\n",
    "        # Get metric scores\n",
    "        f1 = f1_score(y_true, y_pred, average=average)\n",
    "        accuracy = accuracy_score(y_true, y_pred)\n",
    "        recall = recall_score(y_true, y_pred, average=average)\n",
    "        adjusted_ri = adjusted_rand_score(y_true, y_pred)\n",
    "\n",
    "        # Store results into dataframe\n",
    "        df_scores.loc[len(df_scores.index)] = [tmp_coef, accuracy, recall, f1, adjusted_ri]\n",
    "\n",
    "    return df_scores.sort_values(by=\"ARI\", ascending=False)"
   ]
  }
 ],
 "metadata": {
  "kernelspec": {
   "display_name": "Python 3 (ipykernel)",
   "language": "python",
   "name": "python3"
  },
  "language_info": {
   "codemirror_mode": {
    "name": "ipython",
    "version": 3
   },
   "file_extension": ".py",
   "mimetype": "text/x-python",
   "name": "python",
   "nbconvert_exporter": "python",
   "pygments_lexer": "ipython3",
   "version": "3.9.13"
  },
  "varInspector": {
   "cols": {
    "lenName": 16,
    "lenType": 16,
    "lenVar": 40
   },
   "kernels_config": {
    "python": {
     "delete_cmd_postfix": "",
     "delete_cmd_prefix": "del ",
     "library": "var_list.py",
     "varRefreshCmd": "print(var_dic_list())"
    },
    "r": {
     "delete_cmd_postfix": ") ",
     "delete_cmd_prefix": "rm(",
     "library": "var_list.r",
     "varRefreshCmd": "cat(var_dic_list()) "
    }
   },
   "types_to_exclude": [
    "module",
    "function",
    "builtin_function_or_method",
    "instance",
    "_Feature"
   ],
   "window_display": false
  }
 },
 "nbformat": 4,
 "nbformat_minor": 5
}
